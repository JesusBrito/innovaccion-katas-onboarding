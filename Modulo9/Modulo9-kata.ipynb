{
 "cells": [
  {
   "cell_type": "markdown",
   "metadata": {},
   "source": [
    "# Kata 9"
   ]
  },
  {
   "cell_type": "markdown",
   "metadata": {},
   "source": [
    "### Ejercicio 1: Trabajar con argumentos en funciones"
   ]
  },
  {
   "cell_type": "code",
   "execution_count": 8,
   "metadata": {},
   "outputs": [],
   "source": [
    "def reportOfGas(tanque1, tanque2, tanque3):\n",
    "    avg = (tanque1 + tanque2 + tanque3) / 3\n",
    "    return f\"\"\"Reporte de combustible:\n",
    "    Promedio: {avg}%\n",
    "    Tanque 1: {tanque1}%\n",
    "    Tanque 2: {tanque2}%\n",
    "    Tanque 3: {tanque3}% \n",
    "    \"\"\""
   ]
  },
  {
   "cell_type": "code",
   "execution_count": 9,
   "metadata": {},
   "outputs": [
    {
     "name": "stdout",
     "output_type": "stream",
     "text": [
      "El reporte del combustible es: Reporte de combustible:\n",
      "    Promedio: 65.33333333333333%\n",
      "    Tanque 1: 80%\n",
      "    Tanque 2: 56%\n",
      "    Tanque 3: 60% \n",
      "    \n"
     ]
    }
   ],
   "source": [
    "print(f\"El reporte del combustible es: {reportOfGas(80, 56 , 60)}\") "
   ]
  },
  {
   "cell_type": "code",
   "execution_count": 20,
   "metadata": {},
   "outputs": [],
   "source": [
    "def reportOfGas(tanque1, tanque2, tanque3):\n",
    "    avg = avgOfGas([tanque1, tanque2, tanque3])\n",
    "    return f\"\"\"Reporte de combustible:\n",
    "    Promedio: {avg}%\n",
    "    Tanque 1: {tanque1}%\n",
    "    Tanque 2: {tanque2}%\n",
    "    Tanque 3: {tanque3}% \n",
    "    \"\"\"\n",
    "\n",
    "def avgOfGas(tanques):\n",
    "    total = sum(tanques)\n",
    "    items = len(tanques)\n",
    "    return total / items"
   ]
  },
  {
   "cell_type": "code",
   "execution_count": 22,
   "metadata": {},
   "outputs": [
    {
     "name": "stdout",
     "output_type": "stream",
     "text": [
      "El reporte del combustible es: \n",
      "Reporte de combustible:\n",
      "    Promedio: 65.33333333333333%\n",
      "    Tanque 1: 80%\n",
      "    Tanque 2: 56%\n",
      "    Tanque 3: 60% \n",
      "    \n"
     ]
    }
   ],
   "source": [
    "print(f\"\"\"El reporte del combustible es: \n",
    "{reportOfGas(80, 56 , 60)}\"\"\") "
   ]
  },
  {
   "cell_type": "markdown",
   "metadata": {},
   "source": [
    "### Ejercicio 2: Trabajo con argumentos de palabra clave\n"
   ]
  },
  {
   "cell_type": "code",
   "execution_count": 27,
   "metadata": {},
   "outputs": [
    {
     "name": "stdout",
     "output_type": "stream",
     "text": [
      "\n",
      "    Mision a Destino\n",
      "    Tiempo total de vuelo: 30 minutos\n",
      "    Total de combustible: 40\n",
      "    \n"
     ]
    }
   ],
   "source": [
    "def reportOfLaunch(pre_launch_minutes, minutes, destination, tanque1, tanque2):\n",
    "    return f\"\"\"\n",
    "    Mision a {destination}\n",
    "    Tiempo total de vuelo: {pre_launch_minutes + minutes} minutos\n",
    "    Total de combustible: {tanque1 + tanque2}\n",
    "    \"\"\"\n",
    "\n",
    "print(reportOfLaunch(10, 20, \"Destino\", 10, 30))"
   ]
  },
  {
   "cell_type": "code",
   "execution_count": 37,
   "metadata": {},
   "outputs": [
    {
     "name": "stdout",
     "output_type": "stream",
     "text": [
      "\n",
      "    Mision a Marte\n",
      "    Tiempo total de vuelo: 76 minutos\n",
      "    Total de combustible: 500000\n",
      "    \n"
     ]
    }
   ],
   "source": [
    "def reportOfLaunchTwo(destination, *minutes, **tanks):\n",
    "    return f\"\"\"\n",
    "    Mision a {destination}\n",
    "    Tiempo total de vuelo: {sum(minutes)} minutos\n",
    "    Total de combustible: {sum(tanks.values())}\n",
    "    \"\"\"\n",
    "\n",
    "print(reportOfLaunchTwo(\"Marte\", 10, 15, 51, main=300000, external=200000))"
   ]
  },
  {
   "cell_type": "code",
   "execution_count": 41,
   "metadata": {},
   "outputs": [
    {
     "name": "stdout",
     "output_type": "stream",
     "text": [
      "\n",
      "    Mision a Jupiter\n",
      "    Tiempo total de vuelo: 135 minutos\n",
      "    Total de combustible: 500000\n",
      "    principal tanque tiene 300000 galones\n",
      "secundario tanque tiene 200000 galones\n",
      "\n"
     ]
    }
   ],
   "source": [
    "def reportOfLaunchTree(destination, *minutes, **tanks):\n",
    "    report = f\"\"\"\n",
    "    Mision a {destination}\n",
    "    Tiempo total de vuelo: {sum(minutes)} minutos\n",
    "    Total de combustible: {sum(tanks.values())}\n",
    "    \"\"\"\n",
    "    for tank_name, gallons in tanks.items():\n",
    "        report += f\"{tank_name} tanque tiene {gallons} galones\\n\"\n",
    "    return report\n",
    "\n",
    "print(reportOfLaunchTree(\"Jupiter\", 5, 50, 80, principal=300000, secundario=200000))"
   ]
  }
 ],
 "metadata": {
  "interpreter": {
   "hash": "341174e51561662873677d0be27870814c4794ca297764cf522c495ed7717845"
  },
  "kernelspec": {
   "display_name": "Python 3.7.6 ('base')",
   "language": "python",
   "name": "python3"
  },
  "language_info": {
   "codemirror_mode": {
    "name": "ipython",
    "version": 3
   },
   "file_extension": ".py",
   "mimetype": "text/x-python",
   "name": "python",
   "nbconvert_exporter": "python",
   "pygments_lexer": "ipython3",
   "version": "3.7.6"
  },
  "orig_nbformat": 4
 },
 "nbformat": 4,
 "nbformat_minor": 2
}
