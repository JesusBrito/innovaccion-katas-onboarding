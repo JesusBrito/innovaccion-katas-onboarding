{
 "cells": [
  {
   "cell_type": "markdown",
   "metadata": {},
   "source": [
    "# Kata 5"
   ]
  },
  {
   "cell_type": "markdown",
   "metadata": {},
   "source": [
    "### Ejercicio1 - Utilizar operadores aritméticos"
   ]
  },
  {
   "cell_type": "code",
   "execution_count": 1,
   "metadata": {},
   "outputs": [],
   "source": [
    "distancia_tierra = 149597870\n",
    "distancia_jupiter = 778547200"
   ]
  },
  {
   "cell_type": "code",
   "execution_count": 4,
   "metadata": {},
   "outputs": [],
   "source": [
    "distancia_km =  distancia_jupiter - distancia_tierra\n",
    "distancia_millas = distancia_km * 0.621"
   ]
  },
  {
   "cell_type": "code",
   "execution_count": 12,
   "metadata": {},
   "outputs": [
    {
     "name": "stdout",
     "output_type": "stream",
     "text": [
      " La distancia en kilometros es: 628949330 y en millas es: 390577533.93 \n"
     ]
    }
   ],
   "source": [
    "template = \"\"\" La distancia en kilometros es: {} y en millas es: {} \"\"\"\n",
    "print (template.format(distancia_km, distancia_millas))"
   ]
  },
  {
   "cell_type": "markdown",
   "metadata": {},
   "source": [
    "### Ejercicio 2: convierte cadenas en números y usa valores absolutos"
   ]
  },
  {
   "cell_type": "code",
   "execution_count": null,
   "metadata": {},
   "outputs": [],
   "source": [
    "from math import abs"
   ]
  },
  {
   "cell_type": "code",
   "execution_count": 13,
   "metadata": {},
   "outputs": [],
   "source": [
    "distancia_planeta_uno = input(\"Ingrese distancia al sol de planeta uno en Km\")\n",
    "distancia_planeta_dos = input(\"Ingrese distancia al sol de planeta dos en Km\")"
   ]
  },
  {
   "cell_type": "code",
   "execution_count": 14,
   "metadata": {},
   "outputs": [],
   "source": [
    "distancia_planeta_uno = int(distancia_planeta_uno) \n",
    "distancia_planeta_dos = int(distancia_planeta_dos)"
   ]
  },
  {
   "cell_type": "code",
   "execution_count": 15,
   "metadata": {},
   "outputs": [],
   "source": [
    "distancia_km =  abs(distancia_planeta_uno - distancia_planeta_dos)\n",
    "distancia_millas = distancia_km * 0.621"
   ]
  },
  {
   "cell_type": "code",
   "execution_count": 16,
   "metadata": {},
   "outputs": [
    {
     "name": "stdout",
     "output_type": "stream",
     "text": [
      " La distancia en kilometros es: 4437200000 y en millas es: 2755501200.0 \n"
     ]
    }
   ],
   "source": [
    "print (template.format(distancia_km, distancia_millas))"
   ]
  }
 ],
 "metadata": {
  "interpreter": {
   "hash": "341174e51561662873677d0be27870814c4794ca297764cf522c495ed7717845"
  },
  "kernelspec": {
   "display_name": "Python 3.7.6 ('base')",
   "language": "python",
   "name": "python3"
  },
  "language_info": {
   "codemirror_mode": {
    "name": "ipython",
    "version": 3
   },
   "file_extension": ".py",
   "mimetype": "text/x-python",
   "name": "python",
   "nbconvert_exporter": "python",
   "pygments_lexer": "ipython3",
   "version": "3.7.6"
  },
  "orig_nbformat": 4
 },
 "nbformat": 4,
 "nbformat_minor": 2
}
