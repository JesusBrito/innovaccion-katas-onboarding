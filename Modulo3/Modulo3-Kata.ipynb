{
 "cells": [
  {
   "cell_type": "markdown",
   "metadata": {},
   "source": [
    "# Kata 3"
   ]
  },
  {
   "cell_type": "markdown",
   "metadata": {},
   "source": [
    "###  Ejercicio - Escribir declaraciones if, else, y elif"
   ]
  },
  {
   "cell_type": "code",
   "execution_count": 13,
   "metadata": {},
   "outputs": [
    {
     "name": "stdout",
     "output_type": "stream",
     "text": [
      "Alerta!!!!\n"
     ]
    }
   ],
   "source": [
    "velocidadAsteroide = 49\n",
    "if velocidadAsteroide > 25:\n",
    "    print(\"Alerta!!!!\")\n",
    "else:\n",
    "    print(\"Todo normal\")"
   ]
  },
  {
   "cell_type": "code",
   "execution_count": 14,
   "metadata": {},
   "outputs": [
    {
     "name": "stdout",
     "output_type": "stream",
     "text": [
      "Hay un asteroide pero no se puede ver\n"
     ]
    }
   ],
   "source": [
    "velocidadAsteroide = 19\n",
    "if velocidadAsteroide > 25:\n",
    "    print(\"Alerta!!!!\")\n",
    "elif velocidadAsteroide >= 20:\n",
    "    print(\"Hay un asteroide, miren al cielo!!!\")\n",
    "else:\n",
    "    print(\"Hay un asteroide pero no se puede ver\")"
   ]
  },
  {
   "cell_type": "markdown",
   "metadata": {},
   "source": [
    "### Ejercicio: Uso de operadores and y or"
   ]
  },
  {
   "cell_type": "code",
   "execution_count": 18,
   "metadata": {},
   "outputs": [
    {
     "name": "stdout",
     "output_type": "stream",
     "text": [
      "Hay un asteroide, miren al cielo!!!\n"
     ]
    }
   ],
   "source": [
    "diametroAsteroide = 26\n",
    "velocidadAsteroide = 21\n",
    "\n",
    "if diametroAsteroide > 25 and velocidadAsteroide > 25:\n",
    "    print(\"Alerta!!!!\")\n",
    "elif velocidadAsteroide >= 20:\n",
    "    print(\"Hay un asteroide, miren al cielo!!!\")\n",
    "else:\n",
    "    print(\"Hay un asteroide pero no se puede ver\")\n"
   ]
  }
 ],
 "metadata": {
  "interpreter": {
   "hash": "341174e51561662873677d0be27870814c4794ca297764cf522c495ed7717845"
  },
  "kernelspec": {
   "display_name": "Python 3.7.6 ('base')",
   "language": "python",
   "name": "python3"
  },
  "language_info": {
   "codemirror_mode": {
    "name": "ipython",
    "version": 3
   },
   "file_extension": ".py",
   "mimetype": "text/x-python",
   "name": "python",
   "nbconvert_exporter": "python",
   "pygments_lexer": "ipython3",
   "version": "3.7.6"
  },
  "orig_nbformat": 4
 },
 "nbformat": 4,
 "nbformat_minor": 2
}
